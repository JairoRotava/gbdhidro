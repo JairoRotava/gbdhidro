{
 "cells": [
  {
   "cell_type": "code",
   "execution_count": 1,
   "metadata": {},
   "outputs": [],
   "source": [
    "import argparse\n",
    "import os\n",
    "import glob\n",
    "import subprocess\n",
    "import logging\n",
    "import sys\n",
    "import os\n",
    "from netCDF4 import Dataset\n",
    "from shutil import copyfile\n",
    "import zipfile\n",
    "from pymongo import MongoClient"
   ]
  },
  {
   "cell_type": "code",
   "execution_count": 2,
   "metadata": {},
   "outputs": [],
   "source": [
    "#HERE = os.path.abspath(os.path.dirname(__file__))\n",
    "INPUT_FILE = '/media/jairo/Dados/Jairo/Projetos/Samuel data/git/GBD-Hidro/src/test/output/hobo_ua_003_64/EHP02039.nc'\n",
    "rootgrp = Dataset(INPUT_FILE, 'r')"
   ]
  },
  {
   "cell_type": "code",
   "execution_count": 13,
   "metadata": {},
   "outputs": [
    {
     "data": {
      "text/plain": [
       "{'time': <class 'netCDF4._netCDF4.Dimension'> (unlimited): name = 'time', size = 458,\n",
       " 'name_strlen': <class 'netCDF4._netCDF4.Dimension'>: name = 'name_strlen', size = 23}"
      ]
     },
     "execution_count": 13,
     "metadata": {},
     "output_type": "execute_result"
    }
   ],
   "source": [
    "rootgrp.dimensions"
   ]
  },
  {
   "cell_type": "code",
   "execution_count": 14,
   "metadata": {},
   "outputs": [
    {
     "data": {
      "text/plain": [
       "{}"
      ]
     },
     "execution_count": 14,
     "metadata": {},
     "output_type": "execute_result"
    }
   ],
   "source": [
    "rootgrp.groups"
   ]
  },
  {
   "cell_type": "code",
   "execution_count": 15,
   "metadata": {},
   "outputs": [
    {
     "data": {
      "text/plain": [
       "{'time': <class 'netCDF4._netCDF4.Variable'>\n",
       " float64 time(time)\n",
       "     long_name: time of measurement\n",
       "     standard_name: time\n",
       "     units: seconds since 1970-01-01 00:00:00 UTC\n",
       "     axis: T\n",
       "     calendar: gregorian\n",
       "     comment: \n",
       " unlimited dimensions: time\n",
       " current shape = (458,)\n",
       " filling on, default _FillValue of 9.969209968386869e+36 used,\n",
       " 'lat': <class 'netCDF4._netCDF4.Variable'>\n",
       " float32 lat()\n",
       "     _FillValue: -999.9\n",
       "     long_name: station latitude\n",
       "     standard_name: latitude\n",
       "     units: degrees_north\n",
       "     axis: Y\n",
       "     valid_min: -90.0\n",
       "     valid_max: 90.0\n",
       "     comment: \n",
       " unlimited dimensions: \n",
       " current shape = ()\n",
       " filling on,\n",
       " 'lon': <class 'netCDF4._netCDF4.Variable'>\n",
       " float32 lon()\n",
       "     _FillValue: -999.9\n",
       "     long_name: station longitude\n",
       "     standard_name: longitude\n",
       "     units: degrees_east\n",
       "     axis: X\n",
       "     valid_min: -180.0\n",
       "     valid_max: 180.0\n",
       "     comment: \n",
       " unlimited dimensions: \n",
       " current shape = ()\n",
       " filling on,\n",
       " 'alt': <class 'netCDF4._netCDF4.Variable'>\n",
       " float32 alt()\n",
       "     _FillValue: -999.9\n",
       "     long_name: height above mean sea level\n",
       "     standard_name: altitude\n",
       "     units: m\n",
       "     axis: Z\n",
       "     positive: up\n",
       "     comment: \n",
       " unlimited dimensions: \n",
       " current shape = ()\n",
       " filling on,\n",
       " 'station_name': <class 'netCDF4._netCDF4.Variable'>\n",
       " |S1 station_name(name_strlen)\n",
       "     long_name: station name\n",
       "     cf_role: timeseries_id\n",
       " unlimited dimensions: \n",
       " current shape = (23,)\n",
       " filling on, default _FillValue of \u0000 used,\n",
       " 'precipitation': <class 'netCDF4._netCDF4.Variable'>\n",
       " float32 precipitation(time)\n",
       "     _FillValue: -999.9\n",
       "     long_name: accumulated precipitation amount\n",
       "     standard_name: lwe_thickness_of_precipitation_amount\n",
       "     cell_method: time: ​​sum ​​(accumulated ​​since ​​the ​​value ​​was ​​0)\n",
       "     units: mm\n",
       "     coordinates: time lon lat alt station_name\n",
       "     comment: \n",
       " unlimited dimensions: time\n",
       " current shape = (458,)\n",
       " filling on}"
      ]
     },
     "execution_count": 15,
     "metadata": {},
     "output_type": "execute_result"
    }
   ],
   "source": [
    "rootgrp.variables"
   ]
  },
  {
   "cell_type": "code",
   "execution_count": 17,
   "metadata": {},
   "outputs": [
    {
     "data": {
      "text/plain": [
       "{'title': 'Observed precipitation raw data',\n",
       " 'summary': 'Observed precipitation data',\n",
       " 'Conventions': 'CF-1.7',\n",
       " 'institution': 'Universidade Federal de Pelotas',\n",
       " 'instrument': 'HOBO Pendant Event 64K (UA-003-64)',\n",
       " 'id': '',\n",
       " 'comment': '',\n",
       " 'creator_name': 'Grupo de Pesquisa em Hidrologia e Modelagem Hidrológica em Bacias Hidrográficas',\n",
       " 'creator_url': 'https://wp.ufpel.edu.br/hidrologiaemodelagemhidrologica/',\n",
       " 'geospatial_lat_units': 'degrees_north',\n",
       " 'geospatial_lon_units': 'degrees_east',\n",
       " 'geospatial_vertical_min': 0.0,\n",
       " 'geospatial_vertical_max': 0.0,\n",
       " 'geospatial_vertical_units': 'm',\n",
       " 'geospatial_vertical_resolution': 1.0,\n",
       " 'geospatial_vertical_positive': '',\n",
       " 'keywords': ['lwe_thickness_of_precipitation_amount', 'mm', 'EH-P02'],\n",
       " 'key_variables': 'precipitation',\n",
       " 'history': '(20200706T185459Z) Created with HOBO Pendant Event Data Logger (UA-003-64) to NetCDF conversion tool v.0.0.1',\n",
       " 'date_created': '20200706T185459Z',\n",
       " 'geospatial_lat_min': -31.425,\n",
       " 'geospatial_lat_max': -31.425,\n",
       " 'geospatial_lon_min': -52.67,\n",
       " 'geospatial_lon_max': -52.67,\n",
       " 'time_coverage_start': '20200226T200000Z',\n",
       " 'time_coverage_end': '20200508T173743Z',\n",
       " 'time_coverage_duration': 'P71DT21H37M43S',\n",
       " 'database_uuid': 'gbdhidro/estacoes/eh-p02/EH-P02_20200226T200000Z_20200508T173743Z.nc'}"
      ]
     },
     "execution_count": 17,
     "metadata": {},
     "output_type": "execute_result"
    }
   ],
   "source": [
    "rootgrp.__dict__"
   ]
  },
  {
   "cell_type": "code",
   "execution_count": 18,
   "metadata": {},
   "outputs": [
    {
     "data": {
      "text/plain": [
       "['title',\n",
       " 'summary',\n",
       " 'Conventions',\n",
       " 'institution',\n",
       " 'instrument',\n",
       " 'id',\n",
       " 'comment',\n",
       " 'creator_name',\n",
       " 'creator_url',\n",
       " 'geospatial_lat_units',\n",
       " 'geospatial_lon_units',\n",
       " 'geospatial_vertical_min',\n",
       " 'geospatial_vertical_max',\n",
       " 'geospatial_vertical_units',\n",
       " 'geospatial_vertical_resolution',\n",
       " 'geospatial_vertical_positive',\n",
       " 'keywords',\n",
       " 'key_variables',\n",
       " 'history',\n",
       " 'date_created',\n",
       " 'geospatial_lat_min',\n",
       " 'geospatial_lat_max',\n",
       " 'geospatial_lon_min',\n",
       " 'geospatial_lon_max',\n",
       " 'time_coverage_start',\n",
       " 'time_coverage_end',\n",
       " 'time_coverage_duration',\n",
       " 'database_uuid']"
      ]
     },
     "execution_count": 18,
     "metadata": {},
     "output_type": "execute_result"
    }
   ],
   "source": [
    "rootgrp.ncattrs()"
   ]
  },
  {
   "cell_type": "code",
   "execution_count": 12,
   "metadata": {},
   "outputs": [],
   "source": [
    "rootgrp.close()"
   ]
  },
  {
   "cell_type": "code",
   "execution_count": null,
   "metadata": {},
   "outputs": [],
   "source": []
  }
 ],
 "metadata": {
  "kernelspec": {
   "display_name": "Python 3",
   "language": "python",
   "name": "python3"
  },
  "language_info": {
   "codemirror_mode": {
    "name": "ipython",
    "version": 3
   },
   "file_extension": ".py",
   "mimetype": "text/x-python",
   "name": "python",
   "nbconvert_exporter": "python",
   "pygments_lexer": "ipython3",
   "version": "3.7.4"
  }
 },
 "nbformat": 4,
 "nbformat_minor": 2
}
