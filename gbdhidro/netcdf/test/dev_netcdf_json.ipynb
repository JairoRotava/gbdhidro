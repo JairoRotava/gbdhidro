{
 "cells": [
  {
   "cell_type": "code",
   "execution_count": 1,
   "metadata": {},
   "outputs": [],
   "source": [
    "from gbdhidro.netcdf.netcdfjson import NetCDFJSON"
   ]
  },
  {
   "cell_type": "code",
   "execution_count": 2,
   "metadata": {},
   "outputs": [],
   "source": [
    "nc_input_file = './teste.nc'\n",
    "nc_file = NetCDFJSON()\n",
    "nc_file.write(nc_input_file)"
   ]
  },
  {
   "cell_type": "code",
   "execution_count": 3,
   "metadata": {},
   "outputs": [],
   "source": [
    "json_file = './test_netcdf.json'\n",
    "nc_file.load_json(json_file)\n",
    "nc_file.create_from_json()"
   ]
  },
  {
   "cell_type": "code",
   "execution_count": 4,
   "metadata": {},
   "outputs": [
    {
     "data": {
      "text/plain": [
       "<class 'netCDF4._netCDF4.Dataset'>\n",
       "root group (NETCDF4 data model, file format HDF5):\n",
       "    jairo: jairo\n",
       "    title: Observed precipitation raw data\n",
       "    summary: Observed precipitation data\n",
       "    keywords: \n",
       "    Conventions: CF-1.7\n",
       "    institution: Universidade Federal de Pelotas\n",
       "    instrument: HOBO Pendant Event 64K (UA-003-64)\n",
       "    history: \n",
       "    id: \n",
       "    comment: \n",
       "    date_created: \n",
       "    creator_name: Grupo de Pesquisa em Hidrologia e Modelagem Hidrológica em Bacias Hidrográficas\n",
       "    creator_url: https://wp.ufpel.edu.br/hidrologiaemodelagemhidrologica/\n",
       "    geospatial_lat_min: 0.0\n",
       "    geospatial_lat_max: 0.0\n",
       "    geospatial_lat_units: degrees_north\n",
       "    geospatial_lon_min: 0.0\n",
       "    geospatial_lon_max: 0.0\n",
       "    geospatial_lon_units: degrees_east\n",
       "    geospatial_vertical_min: 0.0\n",
       "    geospatial_vertical_max: 0.0\n",
       "    geospatial_vertical_units: m\n",
       "    geospatial_vertical_resolution: 1.0\n",
       "    geospatial_vertical_positive: \n",
       "    time_coverage_start: \n",
       "    time_coverage_end: \n",
       "    time_coverage_duration: \n",
       "    key_variables: \n",
       "    dimensions(sizes): time(0), name_strlen(23)\n",
       "    variables(dimensions): float64 time(time), float32 lat(), float32 lon(), float32 alt(), |S1 station_name(name_strlen), float32 precipitation(time)\n",
       "    groups: grupo1, grupo2"
      ]
     },
     "execution_count": 4,
     "metadata": {},
     "output_type": "execute_result"
    }
   ],
   "source": [
    "nc_file.rootgrp"
   ]
  },
  {
   "cell_type": "code",
   "execution_count": 5,
   "metadata": {},
   "outputs": [
    {
     "data": {
      "text/plain": [
       "{'grupo1': <class 'netCDF4._netCDF4.Group'>\n",
       " group /grupo1:\n",
       "     jairo: jairo\n",
       "     title: Observed precipitation raw data\n",
       "     dimensions(sizes): \n",
       "     variables(dimensions): \n",
       "     groups: , 'grupo2': <class 'netCDF4._netCDF4.Group'>\n",
       " group /grupo2:\n",
       "     atributos: grupo2\n",
       "     dimensions(sizes): \n",
       "     variables(dimensions): \n",
       "     groups: }"
      ]
     },
     "execution_count": 5,
     "metadata": {},
     "output_type": "execute_result"
    }
   ],
   "source": [
    "nc_file.rootgrp.groups"
   ]
  },
  {
   "cell_type": "code",
   "execution_count": 6,
   "metadata": {},
   "outputs": [
    {
     "data": {
      "text/plain": [
       "<class 'netCDF4._netCDF4.Group'>\n",
       "group /grupo1:\n",
       "    jairo: jairo\n",
       "    title: Observed precipitation raw data\n",
       "    dimensions(sizes): \n",
       "    variables(dimensions): \n",
       "    groups: "
      ]
     },
     "execution_count": 6,
     "metadata": {},
     "output_type": "execute_result"
    }
   ],
   "source": [
    "nc_file.rootgrp.groups['grupo1']"
   ]
  },
  {
   "cell_type": "code",
   "execution_count": 7,
   "metadata": {},
   "outputs": [
    {
     "data": {
      "text/plain": [
       "<class 'netCDF4._netCDF4.Group'>\n",
       "group /grupo2:\n",
       "    atributos: grupo2\n",
       "    dimensions(sizes): \n",
       "    variables(dimensions): \n",
       "    groups: "
      ]
     },
     "execution_count": 7,
     "metadata": {},
     "output_type": "execute_result"
    }
   ],
   "source": [
    "nc_file.rootgrp.groups['grupo2']"
   ]
  },
  {
   "cell_type": "code",
   "execution_count": 8,
   "metadata": {},
   "outputs": [],
   "source": [
    "grp = nc_file.rootgrp.groups['grupo2']"
   ]
  },
  {
   "cell_type": "code",
   "execution_count": 9,
   "metadata": {},
   "outputs": [],
   "source": [
    "grp.teste = \"xixi\""
   ]
  },
  {
   "cell_type": "code",
   "execution_count": 10,
   "metadata": {},
   "outputs": [
    {
     "data": {
      "text/plain": [
       "<class 'netCDF4._netCDF4.Group'>\n",
       "group /grupo2:\n",
       "    teste: xixi\n",
       "    dimensions(sizes): \n",
       "    variables(dimensions): \n",
       "    groups: "
      ]
     },
     "execution_count": 10,
     "metadata": {},
     "output_type": "execute_result"
    }
   ],
   "source": [
    "nc_file.rootgrp.groups['grupo2']"
   ]
  },
  {
   "cell_type": "code",
   "execution_count": null,
   "metadata": {},
   "outputs": [],
   "source": []
  },
  {
   "cell_type": "code",
   "execution_count": null,
   "metadata": {},
   "outputs": [],
   "source": []
  },
  {
   "cell_type": "code",
   "execution_count": 8,
   "metadata": {},
   "outputs": [],
   "source": [
    " nc_file.close()"
   ]
  },
  {
   "cell_type": "code",
   "execution_count": null,
   "metadata": {},
   "outputs": [],
   "source": []
  }
 ],
 "metadata": {
  "kernelspec": {
   "display_name": "Python 3",
   "language": "python",
   "name": "python3"
  },
  "language_info": {
   "codemirror_mode": {
    "name": "ipython",
    "version": 3
   },
   "file_extension": ".py",
   "mimetype": "text/x-python",
   "name": "python",
   "nbconvert_exporter": "python",
   "pygments_lexer": "ipython3",
   "version": "3.7.4"
  }
 },
 "nbformat": 4,
 "nbformat_minor": 2
}
