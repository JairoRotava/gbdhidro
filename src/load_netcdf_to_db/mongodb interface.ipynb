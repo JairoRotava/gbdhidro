{
 "cells": [
  {
   "cell_type": "code",
   "execution_count": 1,
   "metadata": {},
   "outputs": [],
   "source": [
    "import argparse\n",
    "import os\n",
    "import glob\n",
    "import subprocess\n",
    "import logging\n",
    "import sys\n",
    "import os\n",
    "from netCDF4 import Dataset\n",
    "from shutil import copyfile\n",
    "import zipfile\n",
    "from pymongo import MongoClient\n",
    "import json\n",
    "import numpy\n",
    "import datetime"
   ]
  },
  {
   "cell_type": "code",
   "execution_count": 2,
   "metadata": {},
   "outputs": [],
   "source": [
    "#HERE = os.path.abspath(os.path.dirname(__file__))\n",
    "INPUT_FILE = '/media/jairo/Dados/Jairo/Projetos/Samuel data/git/GBD-Hidro/src/test/output/hobo_ua_003_64/EHP02039.nc'\n",
    "rootgrp = Dataset(INPUT_FILE, 'r')"
   ]
  },
  {
   "cell_type": "code",
   "execution_count": 3,
   "metadata": {},
   "outputs": [
    {
     "data": {
      "text/plain": [
       "{'time': <class 'netCDF4._netCDF4.Dimension'> (unlimited): name = 'time', size = 458,\n",
       " 'name_strlen': <class 'netCDF4._netCDF4.Dimension'>: name = 'name_strlen', size = 23}"
      ]
     },
     "execution_count": 3,
     "metadata": {},
     "output_type": "execute_result"
    }
   ],
   "source": [
    "rootgrp.dimensions"
   ]
  },
  {
   "cell_type": "code",
   "execution_count": 4,
   "metadata": {},
   "outputs": [
    {
     "data": {
      "text/plain": [
       "{}"
      ]
     },
     "execution_count": 4,
     "metadata": {},
     "output_type": "execute_result"
    }
   ],
   "source": [
    "rootgrp.groups"
   ]
  },
  {
   "cell_type": "code",
   "execution_count": 5,
   "metadata": {},
   "outputs": [
    {
     "data": {
      "text/plain": [
       "{'time': <class 'netCDF4._netCDF4.Variable'>\n",
       " float64 time(time)\n",
       "     long_name: time of measurement\n",
       "     standard_name: time\n",
       "     units: seconds since 1970-01-01 00:00:00 UTC\n",
       "     axis: T\n",
       "     calendar: gregorian\n",
       "     comment: \n",
       " unlimited dimensions: time\n",
       " current shape = (458,)\n",
       " filling on, default _FillValue of 9.969209968386869e+36 used,\n",
       " 'lat': <class 'netCDF4._netCDF4.Variable'>\n",
       " float32 lat()\n",
       "     _FillValue: -999.9\n",
       "     long_name: station latitude\n",
       "     standard_name: latitude\n",
       "     units: degrees_north\n",
       "     axis: Y\n",
       "     valid_min: -90.0\n",
       "     valid_max: 90.0\n",
       "     comment: \n",
       " unlimited dimensions: \n",
       " current shape = ()\n",
       " filling on,\n",
       " 'lon': <class 'netCDF4._netCDF4.Variable'>\n",
       " float32 lon()\n",
       "     _FillValue: -999.9\n",
       "     long_name: station longitude\n",
       "     standard_name: longitude\n",
       "     units: degrees_east\n",
       "     axis: X\n",
       "     valid_min: -180.0\n",
       "     valid_max: 180.0\n",
       "     comment: \n",
       " unlimited dimensions: \n",
       " current shape = ()\n",
       " filling on,\n",
       " 'alt': <class 'netCDF4._netCDF4.Variable'>\n",
       " float32 alt()\n",
       "     _FillValue: -999.9\n",
       "     long_name: height above mean sea level\n",
       "     standard_name: altitude\n",
       "     units: m\n",
       "     axis: Z\n",
       "     positive: up\n",
       "     comment: \n",
       " unlimited dimensions: \n",
       " current shape = ()\n",
       " filling on,\n",
       " 'station_name': <class 'netCDF4._netCDF4.Variable'>\n",
       " |S1 station_name(name_strlen)\n",
       "     long_name: station name\n",
       "     cf_role: timeseries_id\n",
       " unlimited dimensions: \n",
       " current shape = (23,)\n",
       " filling on, default _FillValue of \u0000 used,\n",
       " 'precipitation': <class 'netCDF4._netCDF4.Variable'>\n",
       " float32 precipitation(time)\n",
       "     _FillValue: -999.9\n",
       "     long_name: accumulated precipitation amount\n",
       "     standard_name: lwe_thickness_of_precipitation_amount\n",
       "     cell_method: time: ​​sum ​​(accumulated ​​since ​​the ​​value ​​was ​​0)\n",
       "     units: mm\n",
       "     coordinates: time lon lat alt station_name\n",
       "     comment: \n",
       " unlimited dimensions: time\n",
       " current shape = (458,)\n",
       " filling on}"
      ]
     },
     "execution_count": 5,
     "metadata": {},
     "output_type": "execute_result"
    }
   ],
   "source": [
    "rootgrp.variables"
   ]
  },
  {
   "cell_type": "code",
   "execution_count": 6,
   "metadata": {},
   "outputs": [
    {
     "data": {
      "text/plain": [
       "{'title': 'Observed precipitation raw data',\n",
       " 'summary': 'Observed precipitation data',\n",
       " 'Conventions': 'CF-1.7',\n",
       " 'institution': 'Universidade Federal de Pelotas',\n",
       " 'instrument': 'HOBO Pendant Event 64K (UA-003-64)',\n",
       " 'id': '',\n",
       " 'comment': '',\n",
       " 'creator_name': 'Grupo de Pesquisa em Hidrologia e Modelagem Hidrológica em Bacias Hidrográficas',\n",
       " 'creator_url': 'https://wp.ufpel.edu.br/hidrologiaemodelagemhidrologica/',\n",
       " 'geospatial_lat_units': 'degrees_north',\n",
       " 'geospatial_lon_units': 'degrees_east',\n",
       " 'geospatial_vertical_min': 0.0,\n",
       " 'geospatial_vertical_max': 0.0,\n",
       " 'geospatial_vertical_units': 'm',\n",
       " 'geospatial_vertical_resolution': 1.0,\n",
       " 'geospatial_vertical_positive': '',\n",
       " 'keywords': ['lwe_thickness_of_precipitation_amount', 'mm', 'EH-P02'],\n",
       " 'key_variables': 'precipitation',\n",
       " 'history': '(20200706T185459Z) Created with HOBO Pendant Event Data Logger (UA-003-64) to NetCDF conversion tool v.0.0.1',\n",
       " 'date_created': '20200706T185459Z',\n",
       " 'geospatial_lat_min': -31.425,\n",
       " 'geospatial_lat_max': -31.425,\n",
       " 'geospatial_lon_min': -52.67,\n",
       " 'geospatial_lon_max': -52.67,\n",
       " 'time_coverage_start': '20200226T200000Z',\n",
       " 'time_coverage_end': '20200508T173743Z',\n",
       " 'time_coverage_duration': 'P71DT21H37M43S',\n",
       " 'database_uuid': 'gbdhidro/estacoes/eh-p02/EH-P02_20200226T200000Z_20200508T173743Z.nc'}"
      ]
     },
     "execution_count": 6,
     "metadata": {},
     "output_type": "execute_result"
    }
   ],
   "source": [
    "# global attributes\n",
    "rootgrp.__dict__"
   ]
  },
  {
   "cell_type": "code",
   "execution_count": 7,
   "metadata": {},
   "outputs": [
    {
     "data": {
      "text/plain": [
       "['title',\n",
       " 'summary',\n",
       " 'Conventions',\n",
       " 'institution',\n",
       " 'instrument',\n",
       " 'id',\n",
       " 'comment',\n",
       " 'creator_name',\n",
       " 'creator_url',\n",
       " 'geospatial_lat_units',\n",
       " 'geospatial_lon_units',\n",
       " 'geospatial_vertical_min',\n",
       " 'geospatial_vertical_max',\n",
       " 'geospatial_vertical_units',\n",
       " 'geospatial_vertical_resolution',\n",
       " 'geospatial_vertical_positive',\n",
       " 'keywords',\n",
       " 'key_variables',\n",
       " 'history',\n",
       " 'date_created',\n",
       " 'geospatial_lat_min',\n",
       " 'geospatial_lat_max',\n",
       " 'geospatial_lon_min',\n",
       " 'geospatial_lon_max',\n",
       " 'time_coverage_start',\n",
       " 'time_coverage_end',\n",
       " 'time_coverage_duration',\n",
       " 'database_uuid']"
      ]
     },
     "execution_count": 7,
     "metadata": {},
     "output_type": "execute_result"
    }
   ],
   "source": [
    "rootgrp.ncattrs()"
   ]
  },
  {
   "cell_type": "code",
   "execution_count": 8,
   "metadata": {},
   "outputs": [
    {
     "data": {
      "text/plain": [
       "{'title': 'Observed precipitation raw data',\n",
       " 'summary': 'Observed precipitation data',\n",
       " 'Conventions': 'CF-1.7',\n",
       " 'institution': 'Universidade Federal de Pelotas',\n",
       " 'instrument': 'HOBO Pendant Event 64K (UA-003-64)',\n",
       " 'id': '',\n",
       " 'comment': '',\n",
       " 'creator_name': 'Grupo de Pesquisa em Hidrologia e Modelagem Hidrológica em Bacias Hidrográficas',\n",
       " 'creator_url': 'https://wp.ufpel.edu.br/hidrologiaemodelagemhidrologica/',\n",
       " 'geospatial_lat_units': 'degrees_north',\n",
       " 'geospatial_lon_units': 'degrees_east',\n",
       " 'geospatial_vertical_min': 0.0,\n",
       " 'geospatial_vertical_max': 0.0,\n",
       " 'geospatial_vertical_units': 'm',\n",
       " 'geospatial_vertical_resolution': 1.0,\n",
       " 'geospatial_vertical_positive': '',\n",
       " 'keywords': ['lwe_thickness_of_precipitation_amount', 'mm', 'EH-P02'],\n",
       " 'key_variables': 'precipitation',\n",
       " 'history': '(20200706T185459Z) Created with HOBO Pendant Event Data Logger (UA-003-64) to NetCDF conversion tool v.0.0.1',\n",
       " 'date_created': '20200706T185459Z',\n",
       " 'geospatial_lat_min': -31.424999237060547,\n",
       " 'geospatial_lat_max': -31.424999237060547,\n",
       " 'geospatial_lon_min': -52.66999816894531,\n",
       " 'geospatial_lon_max': -52.66999816894531,\n",
       " 'time_coverage_start': datetime.datetime(2020, 7, 7, 20, 27, 45, 117312),\n",
       " 'time_coverage_end': datetime.datetime(2020, 7, 7, 20, 27, 45, 117316),\n",
       " 'time_coverage_duration': 12213123,\n",
       " 'database_uuid': 'gbdhidro/estacoes/eh-p02/EH-P02_20200226T200000Z_20200508T173743Z.nc'}"
      ]
     },
     "execution_count": 8,
     "metadata": {},
     "output_type": "execute_result"
    }
   ],
   "source": [
    "# Converte os atribuito globais do NetCDF para formatos mais adequados do MongoDB\n",
    "def convert_global_attributes_to_mongo(dictionary):\n",
    "    d = {}\n",
    "    for key, value in dictionary.items():\n",
    "        # Convert numpy type to native python\n",
    "        if type(value).__module__ == numpy.__name__:\n",
    "            value = value.item()\n",
    "        # Convert time converage start/end to native mongodb\n",
    "        if key == 'time_coverage_start':\n",
    "            value = datetime.datetime.utcnow()\n",
    "        if key == 'time_coverage_end':\n",
    "            value = datetime.datetime.utcnow()\n",
    "        if key == 'time_coverage_duration':\n",
    "            # Nao tem tipo de intervalo de tempo definido no mongodb. Guardar o intervalor em segundos\n",
    "            value = int(12213123)\n",
    "            \n",
    "        d.update({key: value})\n",
    "    return d\n",
    "\n",
    "metadata = convert_global_attributes_to_mongo(rootgrp.__dict__.copy())\n",
    "metadata"
   ]
  },
  {
   "cell_type": "code",
   "execution_count": 9,
   "metadata": {},
   "outputs": [],
   "source": [
    "MONGODB_URL = '127.0.0.1:27017'\n",
    "\n",
    "# connect to MongoDB, change the << MONGODB URL >> to reflect your own connection string\n",
    "client = MongoClient(MONGODB_URL)\n",
    "# banco gbd\n",
    "gbd=client.gbd\n",
    "index = gbd.index"
   ]
  },
  {
   "cell_type": "code",
   "execution_count": 12,
   "metadata": {},
   "outputs": [
    {
     "ename": "DuplicateKeyError",
     "evalue": "E11000 duplicate key error collection: gbd.index index: _id_ dup key: { : ObjectId('5f04dac25c0a845d3abf991f') }",
     "output_type": "error",
     "traceback": [
      "\u001b[0;31m---------------------------------------------------------------------------\u001b[0m",
      "\u001b[0;31mDuplicateKeyError\u001b[0m                         Traceback (most recent call last)",
      "\u001b[0;32m<ipython-input-12-6e5ed6f6f314>\u001b[0m in \u001b[0;36m<module>\u001b[0;34m\u001b[0m\n\u001b[0;32m----> 1\u001b[0;31m \u001b[0mindex\u001b[0m\u001b[0;34m.\u001b[0m\u001b[0minsert_one\u001b[0m\u001b[0;34m(\u001b[0m\u001b[0mmetadata\u001b[0m\u001b[0;34m)\u001b[0m\u001b[0;34m\u001b[0m\u001b[0;34m\u001b[0m\u001b[0m\n\u001b[0m",
      "\u001b[0;32m~/anaconda3/lib/python3.7/site-packages/pymongo/collection.py\u001b[0m in \u001b[0;36minsert_one\u001b[0;34m(self, document, bypass_document_validation, session)\u001b[0m\n\u001b[1;32m    696\u001b[0m                          \u001b[0mwrite_concern\u001b[0m\u001b[0;34m=\u001b[0m\u001b[0mwrite_concern\u001b[0m\u001b[0;34m,\u001b[0m\u001b[0;34m\u001b[0m\u001b[0;34m\u001b[0m\u001b[0m\n\u001b[1;32m    697\u001b[0m                          \u001b[0mbypass_doc_val\u001b[0m\u001b[0;34m=\u001b[0m\u001b[0mbypass_document_validation\u001b[0m\u001b[0;34m,\u001b[0m\u001b[0;34m\u001b[0m\u001b[0;34m\u001b[0m\u001b[0m\n\u001b[0;32m--> 698\u001b[0;31m                          session=session),\n\u001b[0m\u001b[1;32m    699\u001b[0m             write_concern.acknowledged)\n\u001b[1;32m    700\u001b[0m \u001b[0;34m\u001b[0m\u001b[0m\n",
      "\u001b[0;32m~/anaconda3/lib/python3.7/site-packages/pymongo/collection.py\u001b[0m in \u001b[0;36m_insert\u001b[0;34m(self, docs, ordered, check_keys, manipulate, write_concern, op_id, bypass_doc_val, session)\u001b[0m\n\u001b[1;32m    610\u001b[0m             return self._insert_one(\n\u001b[1;32m    611\u001b[0m                 \u001b[0mdocs\u001b[0m\u001b[0;34m,\u001b[0m \u001b[0mordered\u001b[0m\u001b[0;34m,\u001b[0m \u001b[0mcheck_keys\u001b[0m\u001b[0;34m,\u001b[0m \u001b[0mmanipulate\u001b[0m\u001b[0;34m,\u001b[0m \u001b[0mwrite_concern\u001b[0m\u001b[0;34m,\u001b[0m \u001b[0mop_id\u001b[0m\u001b[0;34m,\u001b[0m\u001b[0;34m\u001b[0m\u001b[0;34m\u001b[0m\u001b[0m\n\u001b[0;32m--> 612\u001b[0;31m                 bypass_doc_val, session)\n\u001b[0m\u001b[1;32m    613\u001b[0m \u001b[0;34m\u001b[0m\u001b[0m\n\u001b[1;32m    614\u001b[0m         \u001b[0mids\u001b[0m \u001b[0;34m=\u001b[0m \u001b[0;34m[\u001b[0m\u001b[0;34m]\u001b[0m\u001b[0;34m\u001b[0m\u001b[0;34m\u001b[0m\u001b[0m\n",
      "\u001b[0;32m~/anaconda3/lib/python3.7/site-packages/pymongo/collection.py\u001b[0m in \u001b[0;36m_insert_one\u001b[0;34m(self, doc, ordered, check_keys, manipulate, write_concern, op_id, bypass_doc_val, session)\u001b[0m\n\u001b[1;32m    598\u001b[0m \u001b[0;34m\u001b[0m\u001b[0m\n\u001b[1;32m    599\u001b[0m         self.__database.client._retryable_write(\n\u001b[0;32m--> 600\u001b[0;31m             acknowledged, _insert_command, session)\n\u001b[0m\u001b[1;32m    601\u001b[0m \u001b[0;34m\u001b[0m\u001b[0m\n\u001b[1;32m    602\u001b[0m         \u001b[0;32mif\u001b[0m \u001b[0;32mnot\u001b[0m \u001b[0misinstance\u001b[0m\u001b[0;34m(\u001b[0m\u001b[0mdoc\u001b[0m\u001b[0;34m,\u001b[0m \u001b[0mRawBSONDocument\u001b[0m\u001b[0;34m)\u001b[0m\u001b[0;34m:\u001b[0m\u001b[0;34m\u001b[0m\u001b[0;34m\u001b[0m\u001b[0m\n",
      "\u001b[0;32m~/anaconda3/lib/python3.7/site-packages/pymongo/mongo_client.py\u001b[0m in \u001b[0;36m_retryable_write\u001b[0;34m(self, retryable, func, session)\u001b[0m\n\u001b[1;32m   1489\u001b[0m         \u001b[0;34m\"\"\"Internal retryable write helper.\"\"\"\u001b[0m\u001b[0;34m\u001b[0m\u001b[0;34m\u001b[0m\u001b[0m\n\u001b[1;32m   1490\u001b[0m         \u001b[0;32mwith\u001b[0m \u001b[0mself\u001b[0m\u001b[0;34m.\u001b[0m\u001b[0m_tmp_session\u001b[0m\u001b[0;34m(\u001b[0m\u001b[0msession\u001b[0m\u001b[0;34m)\u001b[0m \u001b[0;32mas\u001b[0m \u001b[0ms\u001b[0m\u001b[0;34m:\u001b[0m\u001b[0;34m\u001b[0m\u001b[0;34m\u001b[0m\u001b[0m\n\u001b[0;32m-> 1491\u001b[0;31m             \u001b[0;32mreturn\u001b[0m \u001b[0mself\u001b[0m\u001b[0;34m.\u001b[0m\u001b[0m_retry_with_session\u001b[0m\u001b[0;34m(\u001b[0m\u001b[0mretryable\u001b[0m\u001b[0;34m,\u001b[0m \u001b[0mfunc\u001b[0m\u001b[0;34m,\u001b[0m \u001b[0ms\u001b[0m\u001b[0;34m,\u001b[0m \u001b[0;32mNone\u001b[0m\u001b[0;34m)\u001b[0m\u001b[0;34m\u001b[0m\u001b[0;34m\u001b[0m\u001b[0m\n\u001b[0m\u001b[1;32m   1492\u001b[0m \u001b[0;34m\u001b[0m\u001b[0m\n\u001b[1;32m   1493\u001b[0m     \u001b[0;32mdef\u001b[0m \u001b[0m_reset_server\u001b[0m\u001b[0;34m(\u001b[0m\u001b[0mself\u001b[0m\u001b[0;34m,\u001b[0m \u001b[0maddress\u001b[0m\u001b[0;34m)\u001b[0m\u001b[0;34m:\u001b[0m\u001b[0;34m\u001b[0m\u001b[0;34m\u001b[0m\u001b[0m\n",
      "\u001b[0;32m~/anaconda3/lib/python3.7/site-packages/pymongo/mongo_client.py\u001b[0m in \u001b[0;36m_retry_with_session\u001b[0;34m(self, retryable, func, session, bulk)\u001b[0m\n\u001b[1;32m   1382\u001b[0m                             \u001b[0;32mraise\u001b[0m \u001b[0mlast_error\u001b[0m\u001b[0;34m\u001b[0m\u001b[0;34m\u001b[0m\u001b[0m\n\u001b[1;32m   1383\u001b[0m                         \u001b[0mretryable\u001b[0m \u001b[0;34m=\u001b[0m \u001b[0;32mFalse\u001b[0m\u001b[0;34m\u001b[0m\u001b[0;34m\u001b[0m\u001b[0m\n\u001b[0;32m-> 1384\u001b[0;31m                     \u001b[0;32mreturn\u001b[0m \u001b[0mfunc\u001b[0m\u001b[0;34m(\u001b[0m\u001b[0msession\u001b[0m\u001b[0;34m,\u001b[0m \u001b[0msock_info\u001b[0m\u001b[0;34m,\u001b[0m \u001b[0mretryable\u001b[0m\u001b[0;34m)\u001b[0m\u001b[0;34m\u001b[0m\u001b[0;34m\u001b[0m\u001b[0m\n\u001b[0m\u001b[1;32m   1385\u001b[0m             \u001b[0;32mexcept\u001b[0m \u001b[0mServerSelectionTimeoutError\u001b[0m\u001b[0;34m:\u001b[0m\u001b[0;34m\u001b[0m\u001b[0;34m\u001b[0m\u001b[0m\n\u001b[1;32m   1386\u001b[0m                 \u001b[0;32mif\u001b[0m \u001b[0mis_retrying\u001b[0m\u001b[0;34m(\u001b[0m\u001b[0;34m)\u001b[0m\u001b[0;34m:\u001b[0m\u001b[0;34m\u001b[0m\u001b[0;34m\u001b[0m\u001b[0m\n",
      "\u001b[0;32m~/anaconda3/lib/python3.7/site-packages/pymongo/collection.py\u001b[0m in \u001b[0;36m_insert_command\u001b[0;34m(session, sock_info, retryable_write)\u001b[0m\n\u001b[1;32m    595\u001b[0m                 retryable_write=retryable_write)\n\u001b[1;32m    596\u001b[0m \u001b[0;34m\u001b[0m\u001b[0m\n\u001b[0;32m--> 597\u001b[0;31m             \u001b[0m_check_write_command_response\u001b[0m\u001b[0;34m(\u001b[0m\u001b[0mresult\u001b[0m\u001b[0;34m)\u001b[0m\u001b[0;34m\u001b[0m\u001b[0;34m\u001b[0m\u001b[0m\n\u001b[0m\u001b[1;32m    598\u001b[0m \u001b[0;34m\u001b[0m\u001b[0m\n\u001b[1;32m    599\u001b[0m         self.__database.client._retryable_write(\n",
      "\u001b[0;32m~/anaconda3/lib/python3.7/site-packages/pymongo/helpers.py\u001b[0m in \u001b[0;36m_check_write_command_response\u001b[0;34m(result)\u001b[0m\n\u001b[1;32m    219\u001b[0m     \u001b[0mwrite_errors\u001b[0m \u001b[0;34m=\u001b[0m \u001b[0mresult\u001b[0m\u001b[0;34m.\u001b[0m\u001b[0mget\u001b[0m\u001b[0;34m(\u001b[0m\u001b[0;34m\"writeErrors\"\u001b[0m\u001b[0;34m)\u001b[0m\u001b[0;34m\u001b[0m\u001b[0;34m\u001b[0m\u001b[0m\n\u001b[1;32m    220\u001b[0m     \u001b[0;32mif\u001b[0m \u001b[0mwrite_errors\u001b[0m\u001b[0;34m:\u001b[0m\u001b[0;34m\u001b[0m\u001b[0;34m\u001b[0m\u001b[0m\n\u001b[0;32m--> 221\u001b[0;31m         \u001b[0m_raise_last_write_error\u001b[0m\u001b[0;34m(\u001b[0m\u001b[0mwrite_errors\u001b[0m\u001b[0;34m)\u001b[0m\u001b[0;34m\u001b[0m\u001b[0;34m\u001b[0m\u001b[0m\n\u001b[0m\u001b[1;32m    222\u001b[0m \u001b[0;34m\u001b[0m\u001b[0m\n\u001b[1;32m    223\u001b[0m     \u001b[0merror\u001b[0m \u001b[0;34m=\u001b[0m \u001b[0mresult\u001b[0m\u001b[0;34m.\u001b[0m\u001b[0mget\u001b[0m\u001b[0;34m(\u001b[0m\u001b[0;34m\"writeConcernError\"\u001b[0m\u001b[0;34m)\u001b[0m\u001b[0;34m\u001b[0m\u001b[0;34m\u001b[0m\u001b[0m\n",
      "\u001b[0;32m~/anaconda3/lib/python3.7/site-packages/pymongo/helpers.py\u001b[0m in \u001b[0;36m_raise_last_write_error\u001b[0;34m(write_errors)\u001b[0m\n\u001b[1;32m    200\u001b[0m     \u001b[0merror\u001b[0m \u001b[0;34m=\u001b[0m \u001b[0mwrite_errors\u001b[0m\u001b[0;34m[\u001b[0m\u001b[0;34m-\u001b[0m\u001b[0;36m1\u001b[0m\u001b[0;34m]\u001b[0m\u001b[0;34m\u001b[0m\u001b[0;34m\u001b[0m\u001b[0m\n\u001b[1;32m    201\u001b[0m     \u001b[0;32mif\u001b[0m \u001b[0merror\u001b[0m\u001b[0;34m.\u001b[0m\u001b[0mget\u001b[0m\u001b[0;34m(\u001b[0m\u001b[0;34m\"code\"\u001b[0m\u001b[0;34m)\u001b[0m \u001b[0;34m==\u001b[0m \u001b[0;36m11000\u001b[0m\u001b[0;34m:\u001b[0m\u001b[0;34m\u001b[0m\u001b[0;34m\u001b[0m\u001b[0m\n\u001b[0;32m--> 202\u001b[0;31m         \u001b[0;32mraise\u001b[0m \u001b[0mDuplicateKeyError\u001b[0m\u001b[0;34m(\u001b[0m\u001b[0merror\u001b[0m\u001b[0;34m.\u001b[0m\u001b[0mget\u001b[0m\u001b[0;34m(\u001b[0m\u001b[0;34m\"errmsg\"\u001b[0m\u001b[0;34m)\u001b[0m\u001b[0;34m,\u001b[0m \u001b[0;36m11000\u001b[0m\u001b[0;34m,\u001b[0m \u001b[0merror\u001b[0m\u001b[0;34m)\u001b[0m\u001b[0;34m\u001b[0m\u001b[0;34m\u001b[0m\u001b[0m\n\u001b[0m\u001b[1;32m    203\u001b[0m     \u001b[0;32mraise\u001b[0m \u001b[0mWriteError\u001b[0m\u001b[0;34m(\u001b[0m\u001b[0merror\u001b[0m\u001b[0;34m.\u001b[0m\u001b[0mget\u001b[0m\u001b[0;34m(\u001b[0m\u001b[0;34m\"errmsg\"\u001b[0m\u001b[0;34m)\u001b[0m\u001b[0;34m,\u001b[0m \u001b[0merror\u001b[0m\u001b[0;34m.\u001b[0m\u001b[0mget\u001b[0m\u001b[0;34m(\u001b[0m\u001b[0;34m\"code\"\u001b[0m\u001b[0;34m)\u001b[0m\u001b[0;34m,\u001b[0m \u001b[0merror\u001b[0m\u001b[0;34m)\u001b[0m\u001b[0;34m\u001b[0m\u001b[0;34m\u001b[0m\u001b[0m\n\u001b[1;32m    204\u001b[0m \u001b[0;34m\u001b[0m\u001b[0m\n",
      "\u001b[0;31mDuplicateKeyError\u001b[0m: E11000 duplicate key error collection: gbd.index index: _id_ dup key: { : ObjectId('5f04dac25c0a845d3abf991f') }"
     ]
    }
   ],
   "source": [
    "index.insert_one(metadata)"
   ]
  },
  {
   "cell_type": "code",
   "execution_count": 11,
   "metadata": {},
   "outputs": [],
   "source": [
    "rootgrp.close()"
   ]
  },
  {
   "cell_type": "code",
   "execution_count": null,
   "metadata": {},
   "outputs": [],
   "source": []
  }
 ],
 "metadata": {
  "kernelspec": {
   "display_name": "Python 3",
   "language": "python",
   "name": "python3"
  },
  "language_info": {
   "codemirror_mode": {
    "name": "ipython",
    "version": 3
   },
   "file_extension": ".py",
   "mimetype": "text/x-python",
   "name": "python",
   "nbconvert_exporter": "python",
   "pygments_lexer": "ipython3",
   "version": "3.7.4"
  }
 },
 "nbformat": 4,
 "nbformat_minor": 2
}
