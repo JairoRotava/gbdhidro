{
 "cells": [
  {
   "cell_type": "code",
   "execution_count": 1,
   "metadata": {},
   "outputs": [],
   "source": [
    "import pandas\n",
    "import re\n",
    "from gbdhidro.hobo import hobo"
   ]
  },
  {
   "cell_type": "code",
   "execution_count": 2,
   "metadata": {},
   "outputs": [],
   "source": [
    "filename = '/media/jairo/Dados/Jairo/Projetos/Samuel data/git/GBD-Hidro/src/station_raw_to_netcdf/input/hobo UA-003 precipitacao/EHP02039.csv'\n",
    "ID = 'EHP-07'\n",
    "SN = '10364362'\n",
    "config_file = './stations_info.csv'"
   ]
  },
  {
   "cell_type": "code",
   "execution_count": 3,
   "metadata": {},
   "outputs": [
    {
     "name": "stdout",
     "output_type": "stream",
     "text": [
      "EHP-02 20497860\n",
      "['#', 'Date Time, GMT-03:00', 'Temp, °F (LGR S/N: 20497860, SEN S/N: 20497860)', 'CHUVA, mm (LGR S/N: 20497860, SEN S/N: 20497860)', 'Soma Acum.: CHUVA, mm (LGR S/N: 20497860)', 'Coupler Attached (LGR S/N: 20497860)', 'Host Connected (LGR S/N: 20497860)', 'End Of File (LGR S/N: 20497860)']\n"
     ]
    }
   ],
   "source": [
    "title, serial_number, header, extra = hobo.get_info(filename)\n",
    "print(title, serial_number)\n",
    "print(header)"
   ]
  },
  {
   "cell_type": "code",
   "execution_count": 4,
   "metadata": {},
   "outputs": [],
   "source": [
    "# Abre arquivo de configuracao e retira dados importantes\n",
    "cfgs = pandas.read_csv(config_file)\n",
    "row = cfgs.loc[cfgs['Plot Title'] == title]\n",
    "if row.empty:\n",
    "    # Erro - nao tem nenhuma informacao sobre esse titulo de plot\n",
    "    print('Buuu - Nao encontrei nada com esse titulo de plot')\n",
    "station_id = row.iloc[0]['Codigo']\n",
    "station_sn = row.iloc[0]['Numero de serie']\n",
    "station_latitude = row.iloc[0]['Latitude [graus]']\n",
    "station_longitude = row.iloc[0]['Longitude [graus]']\n",
    "station_altitude = row.iloc[0]['Altitude [m]']\n",
    "station_variable_col = row.iloc[0]['Coluna variavel']\n",
    "station_datetime_col = row.iloc[0]['Coluna data/hora']"
   ]
  },
  {
   "cell_type": "code",
   "execution_count": 6,
   "metadata": {},
   "outputs": [
    {
     "data": {
      "text/plain": [
       "10440731"
      ]
     },
     "execution_count": 6,
     "metadata": {},
     "output_type": "execute_result"
    }
   ],
   "source": [
    "station_sn"
   ]
  },
  {
   "cell_type": "code",
   "execution_count": 7,
   "metadata": {},
   "outputs": [
    {
     "name": "stdout",
     "output_type": "stream",
     "text": [
      "Titulo do arquivo (EHP-02) diferente de id esperado (EHP-07)\n",
      "Serial number (20497860) diferente do esperado (10364362)\n"
     ]
    }
   ],
   "source": [
    "# checa se arquivo tem o nome e o numero de serie esperado\n",
    "if title!=ID:\n",
    "    print('Titulo do arquivo ({}) diferente de id esperado ({})'.format(title,ID))\n",
    "\n",
    "if serial_number != SN:\n",
    "    print('Serial number ({}) diferente do esperado ({})'.format(serial_number, SN))"
   ]
  },
  {
   "cell_type": "code",
   "execution_count": 8,
   "metadata": {},
   "outputs": [
    {
     "data": {
      "text/html": [
       "<div>\n",
       "<style scoped>\n",
       "    .dataframe tbody tr th:only-of-type {\n",
       "        vertical-align: middle;\n",
       "    }\n",
       "\n",
       "    .dataframe tbody tr th {\n",
       "        vertical-align: top;\n",
       "    }\n",
       "\n",
       "    .dataframe thead th {\n",
       "        text-align: right;\n",
       "    }\n",
       "</style>\n",
       "<table border=\"1\" class=\"dataframe\">\n",
       "  <thead>\n",
       "    <tr style=\"text-align: right;\">\n",
       "      <th></th>\n",
       "      <th>#</th>\n",
       "      <th>Date Time, GMT-03:00</th>\n",
       "      <th>Temp, °F (LGR S/N: 20497860, SEN S/N: 20497860)</th>\n",
       "      <th>CHUVA, mm (LGR S/N: 20497860, SEN S/N: 20497860)</th>\n",
       "      <th>Soma Acum.: CHUVA, mm (LGR S/N: 20497860)</th>\n",
       "      <th>Coupler Attached (LGR S/N: 20497860)</th>\n",
       "      <th>Host Connected (LGR S/N: 20497860)</th>\n",
       "      <th>End Of File (LGR S/N: 20497860)</th>\n",
       "    </tr>\n",
       "  </thead>\n",
       "  <tbody>\n",
       "    <tr>\n",
       "      <td>0</td>\n",
       "      <td>1</td>\n",
       "      <td>02/26/20 12:00:00 AM</td>\n",
       "      <td>NaN</td>\n",
       "      <td>NaN</td>\n",
       "      <td>0.0</td>\n",
       "      <td>NaN</td>\n",
       "      <td>NaN</td>\n",
       "      <td>NaN</td>\n",
       "    </tr>\n",
       "    <tr>\n",
       "      <td>1</td>\n",
       "      <td>2</td>\n",
       "      <td>02/26/20 05:00:00 PM</td>\n",
       "      <td>80.911</td>\n",
       "      <td>0.0</td>\n",
       "      <td>NaN</td>\n",
       "      <td>NaN</td>\n",
       "      <td>NaN</td>\n",
       "      <td>NaN</td>\n",
       "    </tr>\n",
       "    <tr>\n",
       "      <td>2</td>\n",
       "      <td>3</td>\n",
       "      <td>02/26/20 05:05:00 PM</td>\n",
       "      <td>80.029</td>\n",
       "      <td>NaN</td>\n",
       "      <td>NaN</td>\n",
       "      <td>NaN</td>\n",
       "      <td>NaN</td>\n",
       "      <td>NaN</td>\n",
       "    </tr>\n",
       "    <tr>\n",
       "      <td>3</td>\n",
       "      <td>4</td>\n",
       "      <td>02/26/20 05:10:00 PM</td>\n",
       "      <td>79.326</td>\n",
       "      <td>NaN</td>\n",
       "      <td>NaN</td>\n",
       "      <td>NaN</td>\n",
       "      <td>NaN</td>\n",
       "      <td>NaN</td>\n",
       "    </tr>\n",
       "    <tr>\n",
       "      <td>4</td>\n",
       "      <td>5</td>\n",
       "      <td>02/26/20 05:15:00 PM</td>\n",
       "      <td>78.800</td>\n",
       "      <td>NaN</td>\n",
       "      <td>NaN</td>\n",
       "      <td>NaN</td>\n",
       "      <td>NaN</td>\n",
       "      <td>NaN</td>\n",
       "    </tr>\n",
       "    <tr>\n",
       "      <td>...</td>\n",
       "      <td>...</td>\n",
       "      <td>...</td>\n",
       "      <td>...</td>\n",
       "      <td>...</td>\n",
       "      <td>...</td>\n",
       "      <td>...</td>\n",
       "      <td>...</td>\n",
       "      <td>...</td>\n",
       "    </tr>\n",
       "    <tr>\n",
       "      <td>21161</td>\n",
       "      <td>21162</td>\n",
       "      <td>05/08/20 02:30:00 PM</td>\n",
       "      <td>71.339</td>\n",
       "      <td>NaN</td>\n",
       "      <td>NaN</td>\n",
       "      <td>NaN</td>\n",
       "      <td>NaN</td>\n",
       "      <td>NaN</td>\n",
       "    </tr>\n",
       "    <tr>\n",
       "      <td>21162</td>\n",
       "      <td>21163</td>\n",
       "      <td>05/08/20 02:35:00 PM</td>\n",
       "      <td>71.339</td>\n",
       "      <td>NaN</td>\n",
       "      <td>NaN</td>\n",
       "      <td>NaN</td>\n",
       "      <td>NaN</td>\n",
       "      <td>NaN</td>\n",
       "    </tr>\n",
       "    <tr>\n",
       "      <td>21163</td>\n",
       "      <td>21164</td>\n",
       "      <td>05/08/20 02:37:13 PM</td>\n",
       "      <td>NaN</td>\n",
       "      <td>91.2</td>\n",
       "      <td>NaN</td>\n",
       "      <td>NaN</td>\n",
       "      <td>NaN</td>\n",
       "      <td>NaN</td>\n",
       "    </tr>\n",
       "    <tr>\n",
       "      <td>21164</td>\n",
       "      <td>21165</td>\n",
       "      <td>05/08/20 02:37:23 PM</td>\n",
       "      <td>NaN</td>\n",
       "      <td>NaN</td>\n",
       "      <td>NaN</td>\n",
       "      <td>Logged</td>\n",
       "      <td>NaN</td>\n",
       "      <td>NaN</td>\n",
       "    </tr>\n",
       "    <tr>\n",
       "      <td>21165</td>\n",
       "      <td>21166</td>\n",
       "      <td>05/08/20 02:37:43 PM</td>\n",
       "      <td>NaN</td>\n",
       "      <td>91.2</td>\n",
       "      <td>NaN</td>\n",
       "      <td>NaN</td>\n",
       "      <td>Logged</td>\n",
       "      <td>Logged</td>\n",
       "    </tr>\n",
       "  </tbody>\n",
       "</table>\n",
       "<p>21166 rows × 8 columns</p>\n",
       "</div>"
      ],
      "text/plain": [
       "           #  Date Time, GMT-03:00  \\\n",
       "0          1  02/26/20 12:00:00 AM   \n",
       "1          2  02/26/20 05:00:00 PM   \n",
       "2          3  02/26/20 05:05:00 PM   \n",
       "3          4  02/26/20 05:10:00 PM   \n",
       "4          5  02/26/20 05:15:00 PM   \n",
       "...      ...                   ...   \n",
       "21161  21162  05/08/20 02:30:00 PM   \n",
       "21162  21163  05/08/20 02:35:00 PM   \n",
       "21163  21164  05/08/20 02:37:13 PM   \n",
       "21164  21165  05/08/20 02:37:23 PM   \n",
       "21165  21166  05/08/20 02:37:43 PM   \n",
       "\n",
       "       Temp, °F (LGR S/N: 20497860, SEN S/N: 20497860)  \\\n",
       "0                                                  NaN   \n",
       "1                                               80.911   \n",
       "2                                               80.029   \n",
       "3                                               79.326   \n",
       "4                                               78.800   \n",
       "...                                                ...   \n",
       "21161                                           71.339   \n",
       "21162                                           71.339   \n",
       "21163                                              NaN   \n",
       "21164                                              NaN   \n",
       "21165                                              NaN   \n",
       "\n",
       "       CHUVA, mm (LGR S/N: 20497860, SEN S/N: 20497860)  \\\n",
       "0                                                   NaN   \n",
       "1                                                   0.0   \n",
       "2                                                   NaN   \n",
       "3                                                   NaN   \n",
       "4                                                   NaN   \n",
       "...                                                 ...   \n",
       "21161                                               NaN   \n",
       "21162                                               NaN   \n",
       "21163                                              91.2   \n",
       "21164                                               NaN   \n",
       "21165                                              91.2   \n",
       "\n",
       "       Soma Acum.: CHUVA, mm (LGR S/N: 20497860)  \\\n",
       "0                                            0.0   \n",
       "1                                            NaN   \n",
       "2                                            NaN   \n",
       "3                                            NaN   \n",
       "4                                            NaN   \n",
       "...                                          ...   \n",
       "21161                                        NaN   \n",
       "21162                                        NaN   \n",
       "21163                                        NaN   \n",
       "21164                                        NaN   \n",
       "21165                                        NaN   \n",
       "\n",
       "      Coupler Attached (LGR S/N: 20497860) Host Connected (LGR S/N: 20497860)  \\\n",
       "0                                      NaN                                NaN   \n",
       "1                                      NaN                                NaN   \n",
       "2                                      NaN                                NaN   \n",
       "3                                      NaN                                NaN   \n",
       "4                                      NaN                                NaN   \n",
       "...                                    ...                                ...   \n",
       "21161                                  NaN                                NaN   \n",
       "21162                                  NaN                                NaN   \n",
       "21163                                  NaN                                NaN   \n",
       "21164                               Logged                                NaN   \n",
       "21165                                  NaN                             Logged   \n",
       "\n",
       "      End Of File (LGR S/N: 20497860)  \n",
       "0                                 NaN  \n",
       "1                                 NaN  \n",
       "2                                 NaN  \n",
       "3                                 NaN  \n",
       "4                                 NaN  \n",
       "...                               ...  \n",
       "21161                             NaN  \n",
       "21162                             NaN  \n",
       "21163                             NaN  \n",
       "21164                             NaN  \n",
       "21165                          Logged  \n",
       "\n",
       "[21166 rows x 8 columns]"
      ]
     },
     "execution_count": 8,
     "metadata": {},
     "output_type": "execute_result"
    }
   ],
   "source": [
    "# Le dados\n",
    "data = hobo.get_data(filename)\n",
    "data"
   ]
  },
  {
   "cell_type": "code",
   "execution_count": 13,
   "metadata": {},
   "outputs": [
    {
     "data": {
      "text/plain": [
       "Date Time, GMT-03:00\n",
       "02/26/20 05:00:00 PM     0.0\n",
       "03/14/20 04:49:21 PM     0.2\n",
       "03/14/20 04:50:40 PM     0.4\n",
       "03/14/20 04:54:14 PM     0.6\n",
       "03/14/20 05:58:39 PM     0.8\n",
       "                        ... \n",
       "05/05/20 12:12:26 AM    90.6\n",
       "05/05/20 12:47:59 AM    90.8\n",
       "05/05/20 12:54:01 PM    91.0\n",
       "05/08/20 02:37:13 PM    91.2\n",
       "05/08/20 02:37:43 PM    91.2\n",
       "Name: CHUVA, mm (LGR S/N: 20497860, SEN S/N: 20497860), Length: 458, dtype: float64"
      ]
     },
     "execution_count": 13,
     "metadata": {},
     "output_type": "execute_result"
    }
   ],
   "source": [
    "# Titule e sn confirmado, le dados extra\n",
    "var_col = 'CHUVA, mm (LGR S/N: 20497860, SEN S/N: 20497860)'\n",
    "v = data[var_col]\n",
    "v.index = data['Date Time, GMT-03:00']\n",
    "v = v.dropna()\n",
    "v"
   ]
  },
  {
   "cell_type": "code",
   "execution_count": 24,
   "metadata": {
    "scrolled": true
   },
   "outputs": [
    {
     "name": "stdout",
     "output_type": "stream",
     "text": [
      "Date Time, GMT-03:00\n",
      "02/26/20 05:00:00 PM    02/26/20 05:00:00 PM\n",
      "03/14/20 04:49:21 PM    03/14/20 04:49:21 PM\n",
      "03/14/20 04:50:40 PM    03/14/20 04:50:40 PM\n",
      "03/14/20 04:54:14 PM    03/14/20 04:54:14 PM\n",
      "03/14/20 05:58:39 PM    03/14/20 05:58:39 PM\n",
      "                                ...         \n",
      "05/05/20 12:12:26 AM    05/05/20 12:12:26 AM\n",
      "05/05/20 12:47:59 AM    05/05/20 12:47:59 AM\n",
      "05/05/20 12:54:01 PM    05/05/20 12:54:01 PM\n",
      "05/08/20 02:37:13 PM    05/08/20 02:37:13 PM\n",
      "05/08/20 02:37:43 PM    05/08/20 02:37:43 PM\n",
      "Name: Date Time, GMT-03:00, Length: 458, dtype: object\n"
     ]
    }
   ],
   "source": [
    "from datetime import datetime\n",
    "from datetime import timezone, timedelta\n",
    "\n",
    "#date_str = data['Date Time, GMT-03:00']\n",
    "date_str = v.index.to_series()\n",
    "date_time = pandas.to_datetime(date_str, format='%m/%d/%y %I:%M:%S %p')\n",
    "print(date_str)\n",
    "gmt_hour_offset = -3\n",
    "gmt_minute_offset = 0\n",
    "tzinfo=timezone(timedelta(hours=gmt_hour_offset, minutes=gmt_minute_offset))\n",
    "index = date_time.dt.tz_localize(tzinfo)\n"
   ]
  },
  {
   "cell_type": "code",
   "execution_count": null,
   "metadata": {},
   "outputs": [],
   "source": [
    "def find_title(str_line):\n",
    "    # Extrai titulo de string\n",
    "    match = re.search(r'(?:Plot Title: )([^\"]+)',str_line)\n",
    "    if match:\n",
    "        return match.group(1)\n",
    "    else:\n",
    "        return None\n",
    "\n",
    "\n",
    "def find_serial_number(str_line):\n",
    "    \"\"\"\n",
    "    Extrai numero de serial de string\n",
    "    \"\"\"\n",
    "    match = re.search(r'(?:LGR S/N: |Serial Number:)(\\d+)',str_line)\n",
    "    if match:\n",
    "        return match.group(1)\n",
    "    else:\n",
    "        return None\n",
    "\n",
    "def get_info(file_name):\n",
    "    \n",
    "    # Obtem nome das colunas\n",
    "    header = list(pandas.read_csv(filename, delimiter=delimiter,  header=0, skiprows=1, nrows=0, encoding=encoding))\n",
    "\n",
    "    # Extrai titulo e informacoes extras se disponiveis\n",
    "    fo = open(filename, 'rt', encoding='utf-8')\n",
    "    title = find_title(fo.readline())\n",
    "    sn = find_serial_number(fo.readline())\n",
    "\n",
    "    # Informacoes extras\n",
    "    n_cols = len(header)\n",
    "    extra = []\n",
    "    for i in range(MAX_EXTRA_SIZE):\n",
    "        # separa nos separadores, mas não se tiver dentro de \"\"\n",
    "        fields = re.split(delimiter + '(?=(?:[^\\\"]*\\\"[^\\\"]*\\\")*[^\\\"]*$)', fo.readline())\n",
    "        n_fields = len(fields)\n",
    "        if n_fields > n_cols:\n",
    "            extra.append(delimiter.join(fields[n_cols:]))\n",
    "        elif n_fields < n_cols:\n",
    "            # Provavelmente uma linha invalida. ignora\n",
    "            pass\n",
    "        else:\n",
    "            # numero de campos é igual ao de dados. termina procura por dados extra\n",
    "            break\n",
    "    extra = ''.join(extra)\n",
    "    fo.close()\n",
    "    \n",
    "    return title, sn, header, extra\n",
    "\n",
    "def get_data(file_name):\n",
    "    # Extrai dados\n",
    "    header = pandas.read_csv(filename, delimiter=delimiter,  header=0, skiprows=1, nrows=0, encoding=encoding)\n",
    "    table = pandas.read_csv(filename, delimiter=delimiter, header=0, skiprows=1, encoding=encoding, usecols=header) \n",
    "    return table\n",
    "\n",
    "\n",
    "def process_data(text):\n",
    "    levels = []\n",
    "    levels.append(['Details'])\n",
    "    levels.append(['Series:','Event Type:'])\n",
    "    levels.append(['Devices', 'Deployment Info', 'Series Statistics', 'Filter Parameters'])\n",
    "    levels.append(['Device Info'])\n",
    "    #teste = re.split(r'[\\n](?=Details|Series: |Event Type: )',extra)\n",
    "    #r'(?:Series:|Event Type:).+?[\\n](?=Series:|Event Type:|$)'    \n",
    "    return get_all_groups(text, levels)\n",
    "\n",
    "def get_group(text, level):\n",
    "    regex1 = '(?:'\n",
    "    regex2 = '.+?[\\n](?='\n",
    "    first = True\n",
    "    for m in level:\n",
    "        if not first:\n",
    "            regex1 += '|'\n",
    "            regex2 += '|'\n",
    "        else:\n",
    "            first = False\n",
    "        regex1 += m\n",
    "        regex2 += m\n",
    "        \n",
    "    regex1 += ')'\n",
    "    regex2 += '|$)'\n",
    "    regex = regex1 + regex2\n",
    "    match = re.compile(regex, re.S)\n",
    "    return match.findall(text)\n",
    "\n",
    "def text_to_dict(text):\n",
    "    fields = text.split('\\n')\n",
    "    d = {}\n",
    "    for f in fields:\n",
    "        s = f.split(':', 1)\n",
    "        if len(s) == 2:\n",
    "            d.update({s[0].strip(): s[1].strip()})\n",
    "    return(d)\n",
    "\n",
    "def get_all_groups(text, levels, level_number=0):\n",
    "    n_levels = len(levels)\n",
    "    groups = []\n",
    "    temp = get_group(text, levels[level_number])  \n",
    "\n",
    "    output = {}\n",
    "    level_number += 1\n",
    "    for l in temp:\n",
    "        [key, val] = l.split(\"\\n\", 1)\n",
    "        new_val = None\n",
    "        if level_number < n_levels:\n",
    "            new_val = get_all_groups(val, levels, level_number)\n",
    "        if new_val:\n",
    "            val = new_val\n",
    "        else:\n",
    "            val = text_to_dict(val)\n",
    "\n",
    "        output.update({key: val})\n",
    "    return output\n"
   ]
  },
  {
   "cell_type": "code",
   "execution_count": null,
   "metadata": {},
   "outputs": [],
   "source": [
    "table = get_data(filename)\n",
    "display(table)"
   ]
  },
  {
   "cell_type": "code",
   "execution_count": null,
   "metadata": {},
   "outputs": [],
   "source": [
    "title, sn, header, extra = get_info(filename)"
   ]
  },
  {
   "cell_type": "code",
   "execution_count": null,
   "metadata": {},
   "outputs": [],
   "source": [
    "print('Titulo: {}'.format(title))\n",
    "print('Numero de serie: {}'.format(sn))\n",
    "print('Cabecalho: {}'.format(header))\n",
    "print('Informacao extra: {}'.format(extra))"
   ]
  },
  {
   "cell_type": "code",
   "execution_count": null,
   "metadata": {},
   "outputs": [],
   "source": [
    "process_data(extra)"
   ]
  },
  {
   "cell_type": "code",
   "execution_count": null,
   "metadata": {},
   "outputs": [],
   "source": []
  },
  {
   "cell_type": "code",
   "execution_count": 34,
   "metadata": {},
   "outputs": [],
   "source": [
    "delta = \"P3Y6M4DT12H30M5S\"\n",
    "#delta = \"P5W\""
   ]
  },
  {
   "cell_type": "code",
   "execution_count": 4,
   "metadata": {},
   "outputs": [
    {
     "data": {
      "text/plain": [
       "relativedelta(years=+3, months=+6, days=+4, hours=+12, minutes=+30, seconds=+5)"
      ]
     },
     "execution_count": 4,
     "metadata": {},
     "output_type": "execute_result"
    }
   ],
   "source": [
    "#p = re.compile(r'(?P<year>\\d+)Y(?P<month>\\d+)M(?P<day>\\d+)', re.IGNORECASE)\n",
    " #p = re.compile(r'GMT(?P<hour>[-+]*\\d+):*(?P<minute>\\d+)*', re.IGNORECASE)\n",
    "\n",
    "# Formato P12W (week)\n",
    "def period_iso8601_to_relativetime(text):\n",
    "    from dateutil.relativedelta import relativedelta\n",
    "    p = re.compile(r'P(?P<years>\\d+(?=Y))*\\D*(?P<months>\\d+(?=M))*\\D*(?P<weeks>\\d+(?=W))*\\D*(?P<days>\\d+(?=D))*\\D*T*(?P<hours>\\d+(?=H))*\\D*(?P<minutes>\\d+(?=M))*\\D*(?P<seconds>\\d+(?=S))*\\D*', re.IGNORECASE)\n",
    "    m = p.search(text)\n",
    "    years = 0\n",
    "    months = 0\n",
    "    weeks = 0\n",
    "    days = 0\n",
    "    hours = 0\n",
    "    minutes = 0\n",
    "    seconds = 0\n",
    "    \n",
    "    if m['years']:\n",
    "        years = float(m['years'])\n",
    "    if m['months']:\n",
    "        months = float(m['months'])\n",
    "    if m['weeks']:\n",
    "        weeks = float(m['weeks'])\n",
    "    if m['days']:\n",
    "        days = float(m['days'])\n",
    "    if m['hours']:\n",
    "        hours = float(m['hours'])\n",
    "    if m['minutes']:\n",
    "        minutes = float(m['minutes'])\n",
    "    if m['seconds']:\n",
    "        seconds = float(m['seconds'])\n",
    "        \n",
    "    delta = relativedelta(\n",
    "        years = years,\n",
    "        months = months,\n",
    "        weeks = weeks,\n",
    "        days = days,\n",
    "        hours = hours,\n",
    "        minutes = minutes,\n",
    "        seconds = seconds)\n",
    "    return delta\n",
    "period_iso8601_to_relativetime(\"P3Y6M4DT12H30M5S\")"
   ]
  },
  {
   "cell_type": "code",
   "execution_count": 20,
   "metadata": {},
   "outputs": [
    {
     "ename": "AttributeError",
     "evalue": "'NoneType' object has no attribute 'groups'",
     "output_type": "error",
     "traceback": [
      "\u001b[0;31m---------------------------------------------------------------------------\u001b[0m",
      "\u001b[0;31mAttributeError\u001b[0m                            Traceback (most recent call last)",
      "\u001b[0;32m<ipython-input-20-3d2ff5d12a83>\u001b[0m in \u001b[0;36m<module>\u001b[0;34m\u001b[0m\n\u001b[0;32m----> 1\u001b[0;31m \u001b[0mm\u001b[0m\u001b[0;34m.\u001b[0m\u001b[0mgroups\u001b[0m\u001b[0;34m(\u001b[0m\u001b[0;34m)\u001b[0m\u001b[0;34m\u001b[0m\u001b[0;34m\u001b[0m\u001b[0m\n\u001b[0m",
      "\u001b[0;31mAttributeError\u001b[0m: 'NoneType' object has no attribute 'groups'"
     ]
    }
   ],
   "source": [
    "m.groups()"
   ]
  },
  {
   "cell_type": "code",
   "execution_count": 25,
   "metadata": {},
   "outputs": [
    {
     "ename": "IndexError",
     "evalue": "no such group",
     "output_type": "error",
     "traceback": [
      "\u001b[0;31m---------------------------------------------------------------------------\u001b[0m",
      "\u001b[0;31mIndexError\u001b[0m                                Traceback (most recent call last)",
      "\u001b[0;32m<ipython-input-25-07df34d27182>\u001b[0m in \u001b[0;36m<module>\u001b[0;34m\u001b[0m\n\u001b[1;32m      8\u001b[0m         delta = relativedelta(\n\u001b[1;32m      9\u001b[0m             weeks = float(m['weeks']) )\n\u001b[0;32m---> 10\u001b[0;31m \u001b[0mperiod_iso8601_to_deltatime\u001b[0m\u001b[0;34m(\u001b[0m\u001b[0;34m'P5W'\u001b[0m\u001b[0;34m)\u001b[0m\u001b[0;34m\u001b[0m\u001b[0;34m\u001b[0m\u001b[0m\n\u001b[0m",
      "\u001b[0;32m<ipython-input-25-07df34d27182>\u001b[0m in \u001b[0;36mperiod_iso8601_to_deltatime\u001b[0;34m(text)\u001b[0m\n\u001b[1;32m      7\u001b[0m     \u001b[0;32mif\u001b[0m \u001b[0mm\u001b[0m\u001b[0;34m:\u001b[0m\u001b[0;34m\u001b[0m\u001b[0;34m\u001b[0m\u001b[0m\n\u001b[1;32m      8\u001b[0m         delta = relativedelta(\n\u001b[0;32m----> 9\u001b[0;31m             weeks = float(m['weeks']) )\n\u001b[0m\u001b[1;32m     10\u001b[0m \u001b[0mperiod_iso8601_to_deltatime\u001b[0m\u001b[0;34m(\u001b[0m\u001b[0;34m'P5W'\u001b[0m\u001b[0;34m)\u001b[0m\u001b[0;34m\u001b[0m\u001b[0;34m\u001b[0m\u001b[0m\n",
      "\u001b[0;31mIndexError\u001b[0m: no such group"
     ]
    }
   ],
   "source": [
    "# Formato P12W (week)\n",
    "delta = 'P5W'\n",
    "def period_iso8601_to_deltatime(text):\n",
    "    from dateutil.relativedelta import relativedelta\n",
    "    w = re.compile(r'^P(?P<week>\\d+(?=W))', re.IGNORECASE)\n",
    "    m = w.search(text)\n",
    "    if m:\n",
    "        delta = relativedelta(\n",
    "            weeks = float(m['weeks']) )\n",
    "period_iso8601_to_deltatime('P5W')"
   ]
  },
  {
   "cell_type": "code",
   "execution_count": null,
   "metadata": {},
   "outputs": [],
   "source": [
    "flot"
   ]
  }
 ],
 "metadata": {
  "kernelspec": {
   "display_name": "Python 3",
   "language": "python",
   "name": "python3"
  },
  "language_info": {
   "codemirror_mode": {
    "name": "ipython",
    "version": 3
   },
   "file_extension": ".py",
   "mimetype": "text/x-python",
   "name": "python",
   "nbconvert_exporter": "python",
   "pygments_lexer": "ipython3",
   "version": "3.7.4"
  }
 },
 "nbformat": 4,
 "nbformat_minor": 2
}
